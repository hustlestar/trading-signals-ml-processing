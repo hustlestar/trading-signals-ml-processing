{
 "cells": [
  {
   "cell_type": "code",
   "execution_count": 1,
   "metadata": {
    "pycharm": {
     "is_executing": false
    }
   },
   "outputs": [],
   "source": [
    "import pandas as pd\n",
    "import seaborn as sns\n",
    "from dotenv import dotenv_values\n",
    "from sklearn.model_selection import train_test_split\n",
    "\n",
    "from config import get_connection\n",
    "from data.db import execute_sql\n",
    "from data.notifcation_preparation import prepare_dataset, flat_notifications_from_sql\n",
    "from data.preprocessing import DataPreprocessor"
   ]
  },
  {
   "cell_type": "code",
   "execution_count": 2,
   "metadata": {
    "pycharm": {
     "is_executing": false,
     "name": "#%%\n"
    }
   },
   "outputs": [
    {
     "name": "stdout",
     "output_type": "stream",
     "text": [
      "['history_statsMap_-10_days_avg1HourVolume', 'history_statsMap_-12_hours_avg1HourVolume', 'history_statsMap_-14_days_avg1HourVolume', 'history_statsMap_-20_days_avg1HourVolume', 'history_statsMap_-24_hours_avg1HourVolume', 'history_statsMap_-28_days_avg1HourVolume', 'history_statsMap_-3_days_avg1HourVolume', 'history_statsMap_-5_days_avg1HourVolume', 'history_statsMap_-6_hours_avg1HourVolume', 'history_statsMap_-7_days_avg1HourVolume']\n"
     ]
    },
    {
     "name": "stderr",
     "output_type": "stream",
     "text": [
      "D:\\Projects\\trading-bot-ml\\src\\data\\preprocessing.py:201: FutureWarning: In a future version of pandas all arguments of DataFrame.drop except for the argument 'labels' will be keyword-only.\n",
      "  x = df_vol.drop(['label_up_return', 'label_down_return'], 1)\n"
     ]
    }
   ],
   "source": [
    "conf = dotenv_values(\"../.env\")\n",
    "conn = get_connection(conf)\n",
    "notifications = execute_sql(conn, \"select * from notifications order by id\")\n",
    "raw_flat_data = prepare_dataset(flat_notifications_from_sql(notifications))\n",
    "data_preprocessor = DataPreprocessor(raw_flat_data, True)\n",
    "df = data_preprocessor.provide_ready_df()"
   ]
  },
  {
   "cell_type": "code",
   "execution_count": 3,
   "metadata": {
    "pycharm": {
     "is_executing": false,
     "name": "#%%\n"
    }
   },
   "outputs": [
    {
     "data": {
      "text/html": [
       "<div>\n",
       "<style scoped>\n",
       "    .dataframe tbody tr th:only-of-type {\n",
       "        vertical-align: middle;\n",
       "    }\n",
       "\n",
       "    .dataframe tbody tr th {\n",
       "        vertical-align: top;\n",
       "    }\n",
       "\n",
       "    .dataframe thead th {\n",
       "        text-align: right;\n",
       "    }\n",
       "</style>\n",
       "<table border=\"1\" class=\"dataframe\">\n",
       "  <thead>\n",
       "    <tr style=\"text-align: right;\">\n",
       "      <th></th>\n",
       "      <th>_01_h_bars_vol_to_28d_avg_h_vol</th>\n",
       "      <th>_02_h_bars_vol_to_28d_avg_h_vol</th>\n",
       "      <th>_03_h_bars_vol_to_28d_avg_h_vol</th>\n",
       "      <th>btc_stats_statsMap_-10_days_avg1HourVolume</th>\n",
       "      <th>btc_stats_statsMap_-10_days_changeRate</th>\n",
       "      <th>btc_stats_statsMap_-10_days_close</th>\n",
       "      <th>btc_stats_statsMap_-10_days_high</th>\n",
       "      <th>btc_stats_statsMap_-10_days_low</th>\n",
       "      <th>btc_stats_statsMap_-10_days_open</th>\n",
       "      <th>btc_stats_statsMap_-12_hours_avg1HourVolume</th>\n",
       "      <th>...</th>\n",
       "      <th>history_statsMap_-6_hours_low</th>\n",
       "      <th>history_statsMap_-6_hours_open</th>\n",
       "      <th>history_statsMap_-7_days_avg1HourVolume</th>\n",
       "      <th>history_statsMap_-7_days_changeRate</th>\n",
       "      <th>history_statsMap_-7_days_high</th>\n",
       "      <th>history_statsMap_-7_days_low</th>\n",
       "      <th>history_statsMap_-7_days_open</th>\n",
       "      <th>label_down_return</th>\n",
       "      <th>label_up_return</th>\n",
       "      <th>price</th>\n",
       "    </tr>\n",
       "  </thead>\n",
       "  <tbody>\n",
       "    <tr>\n",
       "      <th>0</th>\n",
       "      <td>5.192318</td>\n",
       "      <td>7.658774</td>\n",
       "      <td>0.980625</td>\n",
       "      <td>823.18</td>\n",
       "      <td>-10.0</td>\n",
       "      <td>42520.7</td>\n",
       "      <td>47600.1</td>\n",
       "      <td>42108.0</td>\n",
       "      <td>47299.7</td>\n",
       "      <td>135.07</td>\n",
       "      <td>...</td>\n",
       "      <td>0.361500</td>\n",
       "      <td>0.361900</td>\n",
       "      <td>79818.16</td>\n",
       "      <td>-33.0</td>\n",
       "      <td>0.585800</td>\n",
       "      <td>0.356200</td>\n",
       "      <td>0.553300</td>\n",
       "      <td>-17.584416</td>\n",
       "      <td>1.662338</td>\n",
       "      <td>0.385000</td>\n",
       "    </tr>\n",
       "    <tr>\n",
       "      <th>1</th>\n",
       "      <td>0.688743</td>\n",
       "      <td>0.150720</td>\n",
       "      <td>0.165391</td>\n",
       "      <td>823.18</td>\n",
       "      <td>-10.0</td>\n",
       "      <td>42520.7</td>\n",
       "      <td>47600.1</td>\n",
       "      <td>42108.0</td>\n",
       "      <td>47299.7</td>\n",
       "      <td>135.07</td>\n",
       "      <td>...</td>\n",
       "      <td>0.275900</td>\n",
       "      <td>0.280400</td>\n",
       "      <td>60903.32</td>\n",
       "      <td>-7.0</td>\n",
       "      <td>0.355800</td>\n",
       "      <td>0.252800</td>\n",
       "      <td>0.297400</td>\n",
       "      <td>-18.024862</td>\n",
       "      <td>1.312155</td>\n",
       "      <td>0.289600</td>\n",
       "    </tr>\n",
       "    <tr>\n",
       "      <th>4</th>\n",
       "      <td>2.150151</td>\n",
       "      <td>1.136304</td>\n",
       "      <td>1.130103</td>\n",
       "      <td>823.18</td>\n",
       "      <td>-10.0</td>\n",
       "      <td>42520.7</td>\n",
       "      <td>47600.1</td>\n",
       "      <td>42108.0</td>\n",
       "      <td>47299.7</td>\n",
       "      <td>135.07</td>\n",
       "      <td>...</td>\n",
       "      <td>0.050550</td>\n",
       "      <td>0.051460</td>\n",
       "      <td>284673.24</td>\n",
       "      <td>-22.0</td>\n",
       "      <td>0.068400</td>\n",
       "      <td>0.050030</td>\n",
       "      <td>0.065310</td>\n",
       "      <td>-14.995279</td>\n",
       "      <td>4.494806</td>\n",
       "      <td>0.052950</td>\n",
       "    </tr>\n",
       "    <tr>\n",
       "      <th>5</th>\n",
       "      <td>2.150151</td>\n",
       "      <td>1.136304</td>\n",
       "      <td>1.130103</td>\n",
       "      <td>823.18</td>\n",
       "      <td>-10.0</td>\n",
       "      <td>42520.7</td>\n",
       "      <td>47600.1</td>\n",
       "      <td>42108.0</td>\n",
       "      <td>47299.7</td>\n",
       "      <td>135.07</td>\n",
       "      <td>...</td>\n",
       "      <td>0.050550</td>\n",
       "      <td>0.051460</td>\n",
       "      <td>284673.24</td>\n",
       "      <td>-22.0</td>\n",
       "      <td>0.068400</td>\n",
       "      <td>0.050030</td>\n",
       "      <td>0.065310</td>\n",
       "      <td>-15.075472</td>\n",
       "      <td>4.396226</td>\n",
       "      <td>0.053000</td>\n",
       "    </tr>\n",
       "    <tr>\n",
       "      <th>6</th>\n",
       "      <td>0.805183</td>\n",
       "      <td>0.933732</td>\n",
       "      <td>0.815942</td>\n",
       "      <td>823.18</td>\n",
       "      <td>-10.0</td>\n",
       "      <td>42520.7</td>\n",
       "      <td>47600.1</td>\n",
       "      <td>42108.0</td>\n",
       "      <td>47299.7</td>\n",
       "      <td>135.07</td>\n",
       "      <td>...</td>\n",
       "      <td>0.000724</td>\n",
       "      <td>0.000750</td>\n",
       "      <td>5508550.15</td>\n",
       "      <td>-18.0</td>\n",
       "      <td>0.000976</td>\n",
       "      <td>0.000702</td>\n",
       "      <td>0.000891</td>\n",
       "      <td>-11.512718</td>\n",
       "      <td>2.141901</td>\n",
       "      <td>0.000747</td>\n",
       "    </tr>\n",
       "    <tr>\n",
       "      <th>...</th>\n",
       "      <td>...</td>\n",
       "      <td>...</td>\n",
       "      <td>...</td>\n",
       "      <td>...</td>\n",
       "      <td>...</td>\n",
       "      <td>...</td>\n",
       "      <td>...</td>\n",
       "      <td>...</td>\n",
       "      <td>...</td>\n",
       "      <td>...</td>\n",
       "      <td>...</td>\n",
       "      <td>...</td>\n",
       "      <td>...</td>\n",
       "      <td>...</td>\n",
       "      <td>...</td>\n",
       "      <td>...</td>\n",
       "      <td>...</td>\n",
       "      <td>...</td>\n",
       "      <td>...</td>\n",
       "      <td>...</td>\n",
       "      <td>...</td>\n",
       "    </tr>\n",
       "    <tr>\n",
       "      <th>78289</th>\n",
       "      <td>2.566392</td>\n",
       "      <td>1.143479</td>\n",
       "      <td>2.255538</td>\n",
       "      <td>656.51</td>\n",
       "      <td>5.0</td>\n",
       "      <td>21823.0</td>\n",
       "      <td>22500.0</td>\n",
       "      <td>18631.3</td>\n",
       "      <td>20864.2</td>\n",
       "      <td>689.88</td>\n",
       "      <td>...</td>\n",
       "      <td>0.141400</td>\n",
       "      <td>0.144500</td>\n",
       "      <td>40647.17</td>\n",
       "      <td>-22.0</td>\n",
       "      <td>0.212300</td>\n",
       "      <td>0.111900</td>\n",
       "      <td>0.188100</td>\n",
       "      <td>-18.677043</td>\n",
       "      <td>14.072633</td>\n",
       "      <td>0.154200</td>\n",
       "    </tr>\n",
       "    <tr>\n",
       "      <th>78291</th>\n",
       "      <td>0.234133</td>\n",
       "      <td>0.381980</td>\n",
       "      <td>0.263777</td>\n",
       "      <td>656.51</td>\n",
       "      <td>5.0</td>\n",
       "      <td>21823.0</td>\n",
       "      <td>22500.0</td>\n",
       "      <td>18631.3</td>\n",
       "      <td>20864.2</td>\n",
       "      <td>689.88</td>\n",
       "      <td>...</td>\n",
       "      <td>0.029090</td>\n",
       "      <td>0.030990</td>\n",
       "      <td>135154.95</td>\n",
       "      <td>-5.0</td>\n",
       "      <td>0.036500</td>\n",
       "      <td>0.027300</td>\n",
       "      <td>0.030830</td>\n",
       "      <td>-4.028824</td>\n",
       "      <td>4.814936</td>\n",
       "      <td>0.030530</td>\n",
       "    </tr>\n",
       "    <tr>\n",
       "      <th>78293</th>\n",
       "      <td>0.876849</td>\n",
       "      <td>0.592056</td>\n",
       "      <td>0.760023</td>\n",
       "      <td>656.51</td>\n",
       "      <td>5.0</td>\n",
       "      <td>21823.0</td>\n",
       "      <td>22500.0</td>\n",
       "      <td>18631.3</td>\n",
       "      <td>20864.2</td>\n",
       "      <td>689.88</td>\n",
       "      <td>...</td>\n",
       "      <td>0.047000</td>\n",
       "      <td>0.053453</td>\n",
       "      <td>494264.13</td>\n",
       "      <td>10.0</td>\n",
       "      <td>0.055305</td>\n",
       "      <td>0.033797</td>\n",
       "      <td>0.044342</td>\n",
       "      <td>-9.808433</td>\n",
       "      <td>5.560611</td>\n",
       "      <td>0.049894</td>\n",
       "    </tr>\n",
       "    <tr>\n",
       "      <th>78298</th>\n",
       "      <td>0.000000</td>\n",
       "      <td>0.024163</td>\n",
       "      <td>0.000000</td>\n",
       "      <td>656.51</td>\n",
       "      <td>5.0</td>\n",
       "      <td>21823.0</td>\n",
       "      <td>22500.0</td>\n",
       "      <td>18631.3</td>\n",
       "      <td>20864.2</td>\n",
       "      <td>689.88</td>\n",
       "      <td>...</td>\n",
       "      <td>0.001607</td>\n",
       "      <td>0.001669</td>\n",
       "      <td>2218668.90</td>\n",
       "      <td>10.0</td>\n",
       "      <td>0.002850</td>\n",
       "      <td>0.001360</td>\n",
       "      <td>0.001490</td>\n",
       "      <td>-4.632972</td>\n",
       "      <td>4.693141</td>\n",
       "      <td>0.001662</td>\n",
       "    </tr>\n",
       "    <tr>\n",
       "      <th>78299</th>\n",
       "      <td>1.020474</td>\n",
       "      <td>0.851608</td>\n",
       "      <td>0.387141</td>\n",
       "      <td>656.51</td>\n",
       "      <td>5.0</td>\n",
       "      <td>21823.0</td>\n",
       "      <td>22500.0</td>\n",
       "      <td>18631.3</td>\n",
       "      <td>20864.2</td>\n",
       "      <td>689.88</td>\n",
       "      <td>...</td>\n",
       "      <td>0.190000</td>\n",
       "      <td>0.194900</td>\n",
       "      <td>33748.91</td>\n",
       "      <td>23.0</td>\n",
       "      <td>0.260000</td>\n",
       "      <td>0.151700</td>\n",
       "      <td>0.161500</td>\n",
       "      <td>-12.150390</td>\n",
       "      <td>0.779459</td>\n",
       "      <td>0.218100</td>\n",
       "    </tr>\n",
       "  </tbody>\n",
       "</table>\n",
       "<p>46554 rows × 675 columns</p>\n",
       "</div>"
      ],
      "text/plain": [
       "       _01_h_bars_vol_to_28d_avg_h_vol  _02_h_bars_vol_to_28d_avg_h_vol  \\\n",
       "0                             5.192318                         7.658774   \n",
       "1                             0.688743                         0.150720   \n",
       "4                             2.150151                         1.136304   \n",
       "5                             2.150151                         1.136304   \n",
       "6                             0.805183                         0.933732   \n",
       "...                                ...                              ...   \n",
       "78289                         2.566392                         1.143479   \n",
       "78291                         0.234133                         0.381980   \n",
       "78293                         0.876849                         0.592056   \n",
       "78298                         0.000000                         0.024163   \n",
       "78299                         1.020474                         0.851608   \n",
       "\n",
       "       _03_h_bars_vol_to_28d_avg_h_vol  \\\n",
       "0                             0.980625   \n",
       "1                             0.165391   \n",
       "4                             1.130103   \n",
       "5                             1.130103   \n",
       "6                             0.815942   \n",
       "...                                ...   \n",
       "78289                         2.255538   \n",
       "78291                         0.263777   \n",
       "78293                         0.760023   \n",
       "78298                         0.000000   \n",
       "78299                         0.387141   \n",
       "\n",
       "       btc_stats_statsMap_-10_days_avg1HourVolume  \\\n",
       "0                                          823.18   \n",
       "1                                          823.18   \n",
       "4                                          823.18   \n",
       "5                                          823.18   \n",
       "6                                          823.18   \n",
       "...                                           ...   \n",
       "78289                                      656.51   \n",
       "78291                                      656.51   \n",
       "78293                                      656.51   \n",
       "78298                                      656.51   \n",
       "78299                                      656.51   \n",
       "\n",
       "       btc_stats_statsMap_-10_days_changeRate  \\\n",
       "0                                       -10.0   \n",
       "1                                       -10.0   \n",
       "4                                       -10.0   \n",
       "5                                       -10.0   \n",
       "6                                       -10.0   \n",
       "...                                       ...   \n",
       "78289                                     5.0   \n",
       "78291                                     5.0   \n",
       "78293                                     5.0   \n",
       "78298                                     5.0   \n",
       "78299                                     5.0   \n",
       "\n",
       "       btc_stats_statsMap_-10_days_close  btc_stats_statsMap_-10_days_high  \\\n",
       "0                                42520.7                           47600.1   \n",
       "1                                42520.7                           47600.1   \n",
       "4                                42520.7                           47600.1   \n",
       "5                                42520.7                           47600.1   \n",
       "6                                42520.7                           47600.1   \n",
       "...                                  ...                               ...   \n",
       "78289                            21823.0                           22500.0   \n",
       "78291                            21823.0                           22500.0   \n",
       "78293                            21823.0                           22500.0   \n",
       "78298                            21823.0                           22500.0   \n",
       "78299                            21823.0                           22500.0   \n",
       "\n",
       "       btc_stats_statsMap_-10_days_low  btc_stats_statsMap_-10_days_open  \\\n",
       "0                              42108.0                           47299.7   \n",
       "1                              42108.0                           47299.7   \n",
       "4                              42108.0                           47299.7   \n",
       "5                              42108.0                           47299.7   \n",
       "6                              42108.0                           47299.7   \n",
       "...                                ...                               ...   \n",
       "78289                          18631.3                           20864.2   \n",
       "78291                          18631.3                           20864.2   \n",
       "78293                          18631.3                           20864.2   \n",
       "78298                          18631.3                           20864.2   \n",
       "78299                          18631.3                           20864.2   \n",
       "\n",
       "       btc_stats_statsMap_-12_hours_avg1HourVolume  ...  \\\n",
       "0                                           135.07  ...   \n",
       "1                                           135.07  ...   \n",
       "4                                           135.07  ...   \n",
       "5                                           135.07  ...   \n",
       "6                                           135.07  ...   \n",
       "...                                            ...  ...   \n",
       "78289                                       689.88  ...   \n",
       "78291                                       689.88  ...   \n",
       "78293                                       689.88  ...   \n",
       "78298                                       689.88  ...   \n",
       "78299                                       689.88  ...   \n",
       "\n",
       "       history_statsMap_-6_hours_low  history_statsMap_-6_hours_open  \\\n",
       "0                           0.361500                        0.361900   \n",
       "1                           0.275900                        0.280400   \n",
       "4                           0.050550                        0.051460   \n",
       "5                           0.050550                        0.051460   \n",
       "6                           0.000724                        0.000750   \n",
       "...                              ...                             ...   \n",
       "78289                       0.141400                        0.144500   \n",
       "78291                       0.029090                        0.030990   \n",
       "78293                       0.047000                        0.053453   \n",
       "78298                       0.001607                        0.001669   \n",
       "78299                       0.190000                        0.194900   \n",
       "\n",
       "       history_statsMap_-7_days_avg1HourVolume  \\\n",
       "0                                     79818.16   \n",
       "1                                     60903.32   \n",
       "4                                    284673.24   \n",
       "5                                    284673.24   \n",
       "6                                   5508550.15   \n",
       "...                                        ...   \n",
       "78289                                 40647.17   \n",
       "78291                                135154.95   \n",
       "78293                                494264.13   \n",
       "78298                               2218668.90   \n",
       "78299                                 33748.91   \n",
       "\n",
       "       history_statsMap_-7_days_changeRate  history_statsMap_-7_days_high  \\\n",
       "0                                    -33.0                       0.585800   \n",
       "1                                     -7.0                       0.355800   \n",
       "4                                    -22.0                       0.068400   \n",
       "5                                    -22.0                       0.068400   \n",
       "6                                    -18.0                       0.000976   \n",
       "...                                    ...                            ...   \n",
       "78289                                -22.0                       0.212300   \n",
       "78291                                 -5.0                       0.036500   \n",
       "78293                                 10.0                       0.055305   \n",
       "78298                                 10.0                       0.002850   \n",
       "78299                                 23.0                       0.260000   \n",
       "\n",
       "       history_statsMap_-7_days_low  history_statsMap_-7_days_open  \\\n",
       "0                          0.356200                       0.553300   \n",
       "1                          0.252800                       0.297400   \n",
       "4                          0.050030                       0.065310   \n",
       "5                          0.050030                       0.065310   \n",
       "6                          0.000702                       0.000891   \n",
       "...                             ...                            ...   \n",
       "78289                      0.111900                       0.188100   \n",
       "78291                      0.027300                       0.030830   \n",
       "78293                      0.033797                       0.044342   \n",
       "78298                      0.001360                       0.001490   \n",
       "78299                      0.151700                       0.161500   \n",
       "\n",
       "       label_down_return  label_up_return     price  \n",
       "0             -17.584416         1.662338  0.385000  \n",
       "1             -18.024862         1.312155  0.289600  \n",
       "4             -14.995279         4.494806  0.052950  \n",
       "5             -15.075472         4.396226  0.053000  \n",
       "6             -11.512718         2.141901  0.000747  \n",
       "...                  ...              ...       ...  \n",
       "78289         -18.677043        14.072633  0.154200  \n",
       "78291          -4.028824         4.814936  0.030530  \n",
       "78293          -9.808433         5.560611  0.049894  \n",
       "78298          -4.632972         4.693141  0.001662  \n",
       "78299         -12.150390         0.779459  0.218100  \n",
       "\n",
       "[46554 rows x 675 columns]"
      ]
     },
     "execution_count": 3,
     "metadata": {},
     "output_type": "execute_result"
    }
   ],
   "source": [
    "df"
   ]
  },
  {
   "cell_type": "code",
   "execution_count": 4,
   "metadata": {
    "pycharm": {
     "is_executing": false,
     "name": "#%%\n"
    }
   },
   "outputs": [],
   "source": [
    "# from data.scalers import min_max_scaler, standard_scaler\n",
    "# df_norm = min_max_scaler(df)\n",
    "# df_std= standard_scaler(df)\n"
   ]
  },
  {
   "cell_type": "code",
   "execution_count": 5,
   "metadata": {
    "pycharm": {
     "is_executing": false,
     "name": "#%%\n"
    }
   },
   "outputs": [],
   "source": [
    "label_cols = ['label_up_return', 'label_down_return']\n",
    "x = df.drop(label_cols, axis=1)\n",
    "y_up = df['label_up_return']\n",
    "y_down = df['label_down_return']"
   ]
  },
  {
   "cell_type": "code",
   "execution_count": 6,
   "metadata": {
    "pycharm": {
     "is_executing": false,
     "name": "#%%\n"
    }
   },
   "outputs": [
    {
     "data": {
      "text/plain": [
       "(46554, 673)"
      ]
     },
     "execution_count": 6,
     "metadata": {},
     "output_type": "execute_result"
    }
   ],
   "source": [
    "x.shape"
   ]
  },
  {
   "cell_type": "code",
   "execution_count": 7,
   "metadata": {
    "pycharm": {
     "is_executing": false,
     "name": "#%%\n"
    }
   },
   "outputs": [
    {
     "data": {
      "text/plain": [
       "label_20_up\n",
       "0              38952\n",
       "1               7471\n",
       "dtype: int64"
      ]
     },
     "execution_count": 7,
     "metadata": {},
     "output_type": "execute_result"
    }
   ],
   "source": [
    "from model_factory import ModelFactory\n",
    "_, y_up_class = ModelFactory.prepare_classification_label(df, 20)\n",
    "y_up_class.value_counts()\n"
   ]
  },
  {
   "cell_type": "code",
   "execution_count": 8,
   "metadata": {
    "pycharm": {
     "is_executing": false,
     "name": "#%%\n"
    }
   },
   "outputs": [
    {
     "data": {
      "text/plain": [
       "(46423, 1)"
      ]
     },
     "execution_count": 8,
     "metadata": {},
     "output_type": "execute_result"
    }
   ],
   "source": [
    "y_up_class.shape\n"
   ]
  },
  {
   "cell_type": "code",
   "execution_count": 9,
   "metadata": {
    "pycharm": {
     "is_executing": false,
     "name": "#%%\n"
    }
   },
   "outputs": [],
   "source": [
    "x_train, x_test, y_train, y_test = train_test_split(x, y_up_class, test_size=0.1)\n"
   ]
  },
  {
   "cell_type": "code",
   "execution_count": 10,
   "metadata": {
    "pycharm": {
     "is_executing": false,
     "name": "#%%\n"
    }
   },
   "outputs": [],
   "source": [
    "from sklearn.neural_network import MLPClassifier\n",
    "from sklearn.neighbors import KNeighborsClassifier\n",
    "from sklearn.svm import SVC\n",
    "from sklearn.gaussian_process import GaussianProcessClassifier\n",
    "from sklearn.ensemble import GradientBoostingClassifier\n",
    "from sklearn.gaussian_process.kernels import RBF\n",
    "from sklearn.tree import DecisionTreeClassifier\n",
    "from sklearn.ensemble import ExtraTreesClassifier\n",
    "from sklearn.ensemble import RandomForestClassifier, AdaBoostClassifier\n",
    "from sklearn.naive_bayes import GaussianNB\n",
    "from sklearn.discriminant_analysis import QuadraticDiscriminantAnalysis\n",
    "from sklearn.linear_model import SGDClassifier"
   ]
  },
  {
   "cell_type": "code",
   "execution_count": 11,
   "metadata": {
    "pycharm": {
     "is_executing": false,
     "name": "#%%\n"
    }
   },
   "outputs": [],
   "source": [
    "names = [\"Nearest_Neighbors\", \n",
    "         \"Linear_SVM\", \n",
    "         \"Polynomial_SVM\", \n",
    "         \"RBF_SVM\", \n",
    "         \"Gaussian_Process\",\n",
    "         \"Gradient_Boosting\", \n",
    "         \"Decision_Tree\", \n",
    "         \"Extra_Trees\", \n",
    "         \"Random_Forest\", \n",
    "         \"Neural_Net\", \n",
    "         \"AdaBoost\",\n",
    "         \"Naive_Bayes\",\n",
    "         \"QDA\",\n",
    "         \"SGD\"]\n",
    "\n",
    "classifiers = [\n",
    "    KNeighborsClassifier(3),\n",
    "    SVC(kernel=\"linear\", C=0.025),\n",
    "    SVC(kernel=\"poly\", degree=3, C=0.025),\n",
    "    SVC(kernel=\"rbf\", C=1, gamma=2),\n",
    "    GaussianProcessClassifier(1.0 * RBF(1.0)),\n",
    "    GradientBoostingClassifier(n_estimators=100, learning_rate=1.0),\n",
    "    DecisionTreeClassifier(max_depth=5),\n",
    "    ExtraTreesClassifier(n_estimators=10, min_samples_split=2),\n",
    "    RandomForestClassifier(max_depth=5, n_estimators=100),\n",
    "    MLPClassifier(alpha=1, max_iter=1000),\n",
    "    AdaBoostClassifier(n_estimators=100),\n",
    "    GaussianNB(),\n",
    "    QuadraticDiscriminantAnalysis(),\n",
    "    SGDClassifier(loss=\"hinge\", penalty=\"l2\")]\n"
   ]
  },
  {
   "cell_type": "code",
   "execution_count": 12,
   "metadata": {
    "pycharm": {
     "is_executing": false,
     "name": "#%%\n"
    }
   },
   "outputs": [],
   "source": [
    "scores = []\n",
    "models = []"
   ]
  },
  {
   "cell_type": "code",
   "execution_count": null,
   "metadata": {
    "pycharm": {
     "is_executing": true,
     "name": "#%%\n"
    }
   },
   "outputs": [
    {
     "name": "stdout",
     "output_type": "stream",
     "text": [
      "Training Nearest_Neighbors model\n",
      "Training Linear_SVM model\n"
     ]
    },
    {
     "name": "stderr",
     "output_type": "stream",
     "text": [
      "C:\\Users\\hustlestar\\Anaconda3\\envs\\x-dev\\lib\\site-packages\\sklearn\\neighbors\\_classification.py:200: DataConversionWarning: A column-vector y was passed when a 1d array was expected. Please change the shape of y to (n_samples,), for example using ravel().\n",
      "  return self._fit(X, y)\n",
      "C:\\Users\\hustlestar\\Anaconda3\\envs\\x-dev\\lib\\site-packages\\sklearn\\utils\\validation.py:1111: DataConversionWarning: A column-vector y was passed when a 1d array was expected. Please change the shape of y to (n_samples, ), for example using ravel().\n",
      "  y = column_or_1d(y, warn=True)\n"
     ]
    }
   ],
   "source": [
    "def train(clf):\n",
    "    clf.fit(x_train, y_train)\n",
    "    score = clf.score(x_test, y_test)\n",
    "    return score\n",
    "def train_gen():\n",
    "    for name, clf in zip(names, classifiers):\n",
    "        print(f\"Training {name} model\")\n",
    "        score = train(clf)\n",
    "        yield score, clf\n",
    "\n",
    "for k, v in train_gen():\n",
    "    scores.append(k)\n",
    "    models.append(v)"
   ]
  },
  {
   "cell_type": "code",
   "execution_count": null,
   "metadata": {
    "pycharm": {
     "is_executing": true,
     "name": "#%%\n"
    }
   },
   "outputs": [],
   "source": [
    "df = pd.DataFrame()\n",
    "df['name'] = names\n",
    "df['score'] = scores\n",
    "df"
   ]
  },
  {
   "cell_type": "code",
   "execution_count": null,
   "metadata": {
    "pycharm": {
     "is_executing": true,
     "name": "#%%\n"
    }
   },
   "outputs": [],
   "source": [
    "sns.set(style=\"whitegrid\")\n",
    "ax = sns.barplot(y=\"name\", x=\"score\", data=df)"
   ]
  },
  {
   "cell_type": "code",
   "execution_count": null,
   "metadata": {
    "pycharm": {
     "name": "#%%\n"
    }
   },
   "outputs": [],
   "source": [
    "\n"
   ]
  }
 ],
 "metadata": {
  "kernelspec": {
   "display_name": "PyCharm (trading-bot-ml)",
   "language": "python",
   "name": "pycharm-1c3c67ad"
  },
  "language_info": {
   "codemirror_mode": {
    "name": "ipython",
    "version": 3
   },
   "file_extension": ".py",
   "mimetype": "text/x-python",
   "name": "python",
   "nbconvert_exporter": "python",
   "pygments_lexer": "ipython3",
   "version": "3.8.13"
  },
  "pycharm": {
   "stem_cell": {
    "cell_type": "raw",
    "metadata": {
     "collapsed": false
    },
    "source": []
   }
  }
 },
 "nbformat": 4,
 "nbformat_minor": 1
}
