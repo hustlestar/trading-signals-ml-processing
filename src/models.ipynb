{
 "cells": [
  {
   "cell_type": "code",
   "execution_count": 1,
   "metadata": {
    "pycharm": {
     "is_executing": false
    }
   },
   "outputs": [],
   "source": [
    "import pandas as pd\n",
    "import seaborn as sns\n",
    "from dotenv import dotenv_values\n",
    "from sklearn.model_selection import train_test_split\n",
    "\n",
    "from config import get_connection\n",
    "from data.db import execute_sql\n",
    "from data.notifcation_preparation import prepare_dataset, flat_notifications_from_sql\n",
    "from data.preprocessing import DataPreprocessor"
   ]
  },
  {
   "cell_type": "code",
   "execution_count": 2,
   "metadata": {
    "pycharm": {
     "is_executing": false,
     "name": "#%%\n"
    }
   },
   "outputs": [
    {
     "name": "stdout",
     "text": [
      "['history_statsMap_-10_days_avg1HourVolume', 'history_statsMap_-12_hours_avg1HourVolume', 'history_statsMap_-14_days_avg1HourVolume', 'history_statsMap_-20_days_avg1HourVolume', 'history_statsMap_-24_hours_avg1HourVolume', 'history_statsMap_-28_days_avg1HourVolume', 'history_statsMap_-3_days_avg1HourVolume', 'history_statsMap_-5_days_avg1HourVolume', 'history_statsMap_-6_hours_avg1HourVolume', 'history_statsMap_-7_days_avg1HourVolume']\n"
     ],
     "output_type": "stream"
    },
    {
     "name": "stderr",
     "text": [
      "D:\\Projects\\trading-bot-ml\\src\\data\\preprocessing.py:201: FutureWarning: In a future version of pandas all arguments of DataFrame.drop except for the argument 'labels' will be keyword-only.\n  x = df_vol.drop(['label_up_return', 'label_down_return'], 1)\n"
     ],
     "output_type": "stream"
    }
   ],
   "source": [
    "conf = dotenv_values(\"../.env\")\n",
    "conn = get_connection(conf)\n",
    "notifications = execute_sql(conn, \"select * from notifications order by id\")\n",
    "raw_flat_data = prepare_dataset(flat_notifications_from_sql(notifications))\n",
    "data_preprocessor = DataPreprocessor(raw_flat_data, True)\n",
    "df = data_preprocessor.provide_ready_df()"
   ]
  },
  {
   "cell_type": "code",
   "execution_count": 3,
   "metadata": {
    "pycharm": {
     "is_executing": false,
     "name": "#%%\n"
    }
   },
   "outputs": [
    {
     "data": {
      "text/plain": "       _01_h_bars_vol_to_28d_avg_h_vol  _02_h_bars_vol_to_28d_avg_h_vol  \\\n0                             5.192318                         7.658774   \n1                             0.688743                         0.150720   \n4                             2.150151                         1.136304   \n5                             2.150151                         1.136304   \n6                             0.805183                         0.933732   \n...                                ...                              ...   \n83748                         0.038778                         0.097250   \n83749                         1.220498                         1.024316   \n83750                         0.478357                         0.000000   \n83751                        10.469426                         9.920887   \n83754                         1.447518                         2.097966   \n\n       _03_h_bars_vol_to_28d_avg_h_vol  \\\n0                             0.980625   \n1                             0.165391   \n4                             1.130103   \n5                             1.130103   \n6                             0.815942   \n...                                ...   \n83748                         0.034751   \n83749                         1.419165   \n83750                         0.079935   \n83751                         1.619170   \n83754                         1.075458   \n\n       btc_stats_statsMap_-10_days_avg1HourVolume  \\\n0                                          823.18   \n1                                          823.18   \n4                                          823.18   \n5                                          823.18   \n6                                          823.18   \n...                                           ...   \n83748                                      536.85   \n83749                                      536.85   \n83750                                      536.85   \n83751                                      536.85   \n83754                                      536.85   \n\n       btc_stats_statsMap_-10_days_changeRate  \\\n0                                       -10.0   \n1                                       -10.0   \n4                                       -10.0   \n5                                       -10.0   \n6                                       -10.0   \n...                                       ...   \n83748                                     7.0   \n83749                                     7.0   \n83750                                     7.0   \n83751                                     7.0   \n83754                                     7.0   \n\n       btc_stats_statsMap_-10_days_close  btc_stats_statsMap_-10_days_high  \\\n0                                42520.7                           47600.1   \n1                                42520.7                           47600.1   \n4                                42520.7                           47600.1   \n5                                42520.7                           47600.1   \n6                                42520.7                           47600.1   \n...                                  ...                               ...   \n83748                            20471.9                           22500.0   \n83749                            20471.9                           22500.0   \n83750                            20471.9                           22500.0   \n83751                            20471.9                           22500.0   \n83754                            20471.9                           22500.0   \n\n       btc_stats_statsMap_-10_days_low  btc_stats_statsMap_-10_days_open  \\\n0                              42108.0                           47299.7   \n1                              42108.0                           47299.7   \n4                              42108.0                           47299.7   \n5                              42108.0                           47299.7   \n6                              42108.0                           47299.7   \n...                                ...                               ...   \n83748                          18789.1                           19192.2   \n83749                          18789.1                           19192.2   \n83750                          18789.1                           19192.2   \n83751                          18789.1                           19192.2   \n83754                          18789.1                           19192.2   \n\n       btc_stats_statsMap_-12_hours_avg1HourVolume  ...  \\\n0                                           135.07  ...   \n1                                           135.07  ...   \n4                                           135.07  ...   \n5                                           135.07  ...   \n6                                           135.07  ...   \n...                                            ...  ...   \n83748                                       374.14  ...   \n83749                                       374.14  ...   \n83750                                       374.14  ...   \n83751                                       374.14  ...   \n83754                                       374.14  ...   \n\n       history_statsMap_-6_hours_low  history_statsMap_-6_hours_open  \\\n0                           0.361500                        0.361900   \n1                           0.275900                        0.280400   \n4                           0.050550                        0.051460   \n5                           0.050550                        0.051460   \n6                           0.000724                        0.000750   \n...                              ...                             ...   \n83748                       0.573100                        0.576900   \n83749                       0.028590                        0.029240   \n83750                       0.008200                        0.008564   \n83751                       0.067830                        0.069120   \n83754                       0.048220                        0.048700   \n\n       history_statsMap_-7_days_avg1HourVolume  \\\n0                                     79818.16   \n1                                     60903.32   \n4                                    284673.24   \n5                                    284673.24   \n6                                   5508550.15   \n...                                        ...   \n83748                                  2396.74   \n83749                                135284.83   \n83750                                 80292.67   \n83751                                850806.70   \n83754                                 47000.53   \n\n       history_statsMap_-7_days_changeRate  history_statsMap_-7_days_high  \\\n0                                    -33.0                       0.585800   \n1                                     -7.0                       0.355800   \n4                                    -22.0                       0.068400   \n5                                    -22.0                       0.068400   \n6                                    -18.0                       0.000976   \n...                                    ...                            ...   \n83748                                  0.0                       0.635000   \n83749                                  5.0                       0.033900   \n83750                                 -6.0                       0.009677   \n83751                                 49.0                       0.132970   \n83754                                 -3.0                       0.065000   \n\n       history_statsMap_-7_days_low  history_statsMap_-7_days_open  \\\n0                          0.356200                       0.553300   \n1                          0.252800                       0.297400   \n4                          0.050030                       0.065310   \n5                          0.050030                       0.065310   \n6                          0.000702                       0.000891   \n...                             ...                            ...   \n83748                      0.552600                       0.572000   \n83749                      0.027340                       0.028160   \n83750                      0.008182                       0.008790   \n83751                      0.049330                       0.050230   \n83754                      0.046870                       0.050300   \n\n       label_down_return  label_up_return     price  \n0             -17.584416         1.662338  0.385000  \n1             -18.024862         1.312155  0.289600  \n4             -14.995279         4.494806  0.052950  \n5             -15.075472         4.396226  0.053000  \n6             -11.512718         2.141901  0.000747  \n...                  ...              ...       ...  \n83748          -6.445047         0.067843  0.589600  \n83749          -7.624633         9.612252  0.030690  \n83750          -9.605822         0.533657  0.008245  \n83751         -11.990729         5.330568  0.081980  \n83754          -3.816027        14.179554  0.049790  \n\n[49534 rows x 675 columns]",
      "text/html": "<div>\n<style scoped>\n    .dataframe tbody tr th:only-of-type {\n        vertical-align: middle;\n    }\n\n    .dataframe tbody tr th {\n        vertical-align: top;\n    }\n\n    .dataframe thead th {\n        text-align: right;\n    }\n</style>\n<table border=\"1\" class=\"dataframe\">\n  <thead>\n    <tr style=\"text-align: right;\">\n      <th></th>\n      <th>_01_h_bars_vol_to_28d_avg_h_vol</th>\n      <th>_02_h_bars_vol_to_28d_avg_h_vol</th>\n      <th>_03_h_bars_vol_to_28d_avg_h_vol</th>\n      <th>btc_stats_statsMap_-10_days_avg1HourVolume</th>\n      <th>btc_stats_statsMap_-10_days_changeRate</th>\n      <th>btc_stats_statsMap_-10_days_close</th>\n      <th>btc_stats_statsMap_-10_days_high</th>\n      <th>btc_stats_statsMap_-10_days_low</th>\n      <th>btc_stats_statsMap_-10_days_open</th>\n      <th>btc_stats_statsMap_-12_hours_avg1HourVolume</th>\n      <th>...</th>\n      <th>history_statsMap_-6_hours_low</th>\n      <th>history_statsMap_-6_hours_open</th>\n      <th>history_statsMap_-7_days_avg1HourVolume</th>\n      <th>history_statsMap_-7_days_changeRate</th>\n      <th>history_statsMap_-7_days_high</th>\n      <th>history_statsMap_-7_days_low</th>\n      <th>history_statsMap_-7_days_open</th>\n      <th>label_down_return</th>\n      <th>label_up_return</th>\n      <th>price</th>\n    </tr>\n  </thead>\n  <tbody>\n    <tr>\n      <th>0</th>\n      <td>5.192318</td>\n      <td>7.658774</td>\n      <td>0.980625</td>\n      <td>823.18</td>\n      <td>-10.0</td>\n      <td>42520.7</td>\n      <td>47600.1</td>\n      <td>42108.0</td>\n      <td>47299.7</td>\n      <td>135.07</td>\n      <td>...</td>\n      <td>0.361500</td>\n      <td>0.361900</td>\n      <td>79818.16</td>\n      <td>-33.0</td>\n      <td>0.585800</td>\n      <td>0.356200</td>\n      <td>0.553300</td>\n      <td>-17.584416</td>\n      <td>1.662338</td>\n      <td>0.385000</td>\n    </tr>\n    <tr>\n      <th>1</th>\n      <td>0.688743</td>\n      <td>0.150720</td>\n      <td>0.165391</td>\n      <td>823.18</td>\n      <td>-10.0</td>\n      <td>42520.7</td>\n      <td>47600.1</td>\n      <td>42108.0</td>\n      <td>47299.7</td>\n      <td>135.07</td>\n      <td>...</td>\n      <td>0.275900</td>\n      <td>0.280400</td>\n      <td>60903.32</td>\n      <td>-7.0</td>\n      <td>0.355800</td>\n      <td>0.252800</td>\n      <td>0.297400</td>\n      <td>-18.024862</td>\n      <td>1.312155</td>\n      <td>0.289600</td>\n    </tr>\n    <tr>\n      <th>4</th>\n      <td>2.150151</td>\n      <td>1.136304</td>\n      <td>1.130103</td>\n      <td>823.18</td>\n      <td>-10.0</td>\n      <td>42520.7</td>\n      <td>47600.1</td>\n      <td>42108.0</td>\n      <td>47299.7</td>\n      <td>135.07</td>\n      <td>...</td>\n      <td>0.050550</td>\n      <td>0.051460</td>\n      <td>284673.24</td>\n      <td>-22.0</td>\n      <td>0.068400</td>\n      <td>0.050030</td>\n      <td>0.065310</td>\n      <td>-14.995279</td>\n      <td>4.494806</td>\n      <td>0.052950</td>\n    </tr>\n    <tr>\n      <th>5</th>\n      <td>2.150151</td>\n      <td>1.136304</td>\n      <td>1.130103</td>\n      <td>823.18</td>\n      <td>-10.0</td>\n      <td>42520.7</td>\n      <td>47600.1</td>\n      <td>42108.0</td>\n      <td>47299.7</td>\n      <td>135.07</td>\n      <td>...</td>\n      <td>0.050550</td>\n      <td>0.051460</td>\n      <td>284673.24</td>\n      <td>-22.0</td>\n      <td>0.068400</td>\n      <td>0.050030</td>\n      <td>0.065310</td>\n      <td>-15.075472</td>\n      <td>4.396226</td>\n      <td>0.053000</td>\n    </tr>\n    <tr>\n      <th>6</th>\n      <td>0.805183</td>\n      <td>0.933732</td>\n      <td>0.815942</td>\n      <td>823.18</td>\n      <td>-10.0</td>\n      <td>42520.7</td>\n      <td>47600.1</td>\n      <td>42108.0</td>\n      <td>47299.7</td>\n      <td>135.07</td>\n      <td>...</td>\n      <td>0.000724</td>\n      <td>0.000750</td>\n      <td>5508550.15</td>\n      <td>-18.0</td>\n      <td>0.000976</td>\n      <td>0.000702</td>\n      <td>0.000891</td>\n      <td>-11.512718</td>\n      <td>2.141901</td>\n      <td>0.000747</td>\n    </tr>\n    <tr>\n      <th>...</th>\n      <td>...</td>\n      <td>...</td>\n      <td>...</td>\n      <td>...</td>\n      <td>...</td>\n      <td>...</td>\n      <td>...</td>\n      <td>...</td>\n      <td>...</td>\n      <td>...</td>\n      <td>...</td>\n      <td>...</td>\n      <td>...</td>\n      <td>...</td>\n      <td>...</td>\n      <td>...</td>\n      <td>...</td>\n      <td>...</td>\n      <td>...</td>\n      <td>...</td>\n      <td>...</td>\n    </tr>\n    <tr>\n      <th>83748</th>\n      <td>0.038778</td>\n      <td>0.097250</td>\n      <td>0.034751</td>\n      <td>536.85</td>\n      <td>7.0</td>\n      <td>20471.9</td>\n      <td>22500.0</td>\n      <td>18789.1</td>\n      <td>19192.2</td>\n      <td>374.14</td>\n      <td>...</td>\n      <td>0.573100</td>\n      <td>0.576900</td>\n      <td>2396.74</td>\n      <td>0.0</td>\n      <td>0.635000</td>\n      <td>0.552600</td>\n      <td>0.572000</td>\n      <td>-6.445047</td>\n      <td>0.067843</td>\n      <td>0.589600</td>\n    </tr>\n    <tr>\n      <th>83749</th>\n      <td>1.220498</td>\n      <td>1.024316</td>\n      <td>1.419165</td>\n      <td>536.85</td>\n      <td>7.0</td>\n      <td>20471.9</td>\n      <td>22500.0</td>\n      <td>18789.1</td>\n      <td>19192.2</td>\n      <td>374.14</td>\n      <td>...</td>\n      <td>0.028590</td>\n      <td>0.029240</td>\n      <td>135284.83</td>\n      <td>5.0</td>\n      <td>0.033900</td>\n      <td>0.027340</td>\n      <td>0.028160</td>\n      <td>-7.624633</td>\n      <td>9.612252</td>\n      <td>0.030690</td>\n    </tr>\n    <tr>\n      <th>83750</th>\n      <td>0.478357</td>\n      <td>0.000000</td>\n      <td>0.079935</td>\n      <td>536.85</td>\n      <td>7.0</td>\n      <td>20471.9</td>\n      <td>22500.0</td>\n      <td>18789.1</td>\n      <td>19192.2</td>\n      <td>374.14</td>\n      <td>...</td>\n      <td>0.008200</td>\n      <td>0.008564</td>\n      <td>80292.67</td>\n      <td>-6.0</td>\n      <td>0.009677</td>\n      <td>0.008182</td>\n      <td>0.008790</td>\n      <td>-9.605822</td>\n      <td>0.533657</td>\n      <td>0.008245</td>\n    </tr>\n    <tr>\n      <th>83751</th>\n      <td>10.469426</td>\n      <td>9.920887</td>\n      <td>1.619170</td>\n      <td>536.85</td>\n      <td>7.0</td>\n      <td>20471.9</td>\n      <td>22500.0</td>\n      <td>18789.1</td>\n      <td>19192.2</td>\n      <td>374.14</td>\n      <td>...</td>\n      <td>0.067830</td>\n      <td>0.069120</td>\n      <td>850806.70</td>\n      <td>49.0</td>\n      <td>0.132970</td>\n      <td>0.049330</td>\n      <td>0.050230</td>\n      <td>-11.990729</td>\n      <td>5.330568</td>\n      <td>0.081980</td>\n    </tr>\n    <tr>\n      <th>83754</th>\n      <td>1.447518</td>\n      <td>2.097966</td>\n      <td>1.075458</td>\n      <td>536.85</td>\n      <td>7.0</td>\n      <td>20471.9</td>\n      <td>22500.0</td>\n      <td>18789.1</td>\n      <td>19192.2</td>\n      <td>374.14</td>\n      <td>...</td>\n      <td>0.048220</td>\n      <td>0.048700</td>\n      <td>47000.53</td>\n      <td>-3.0</td>\n      <td>0.065000</td>\n      <td>0.046870</td>\n      <td>0.050300</td>\n      <td>-3.816027</td>\n      <td>14.179554</td>\n      <td>0.049790</td>\n    </tr>\n  </tbody>\n</table>\n<p>49534 rows × 675 columns</p>\n</div>"
     },
     "metadata": {},
     "output_type": "execute_result",
     "execution_count": 3
    }
   ],
   "source": [
    "df"
   ]
  },
  {
   "cell_type": "code",
   "execution_count": 4,
   "metadata": {
    "pycharm": {
     "is_executing": false,
     "name": "#%%\n"
    }
   },
   "outputs": [],
   "source": [
    "# from data.scalers import min_max_scaler, standard_scaler\n",
    "# df_norm = min_max_scaler(df)\n",
    "# df_std= standard_scaler(df)\n"
   ]
  },
  {
   "cell_type": "code",
   "execution_count": 5,
   "metadata": {
    "pycharm": {
     "is_executing": false,
     "name": "#%%\n"
    }
   },
   "outputs": [],
   "source": [
    "label_cols = ['label_up_return', 'label_down_return']\n",
    "x = df.drop(label_cols, axis=1)\n",
    "y_up = df['label_up_return']\n",
    "y_down = df['label_down_return']"
   ]
  },
  {
   "cell_type": "code",
   "execution_count": 6,
   "metadata": {
    "pycharm": {
     "is_executing": false,
     "name": "#%%\n"
    }
   },
   "outputs": [
    {
     "data": {
      "text/plain": "(49534, 673)"
     },
     "metadata": {},
     "output_type": "execute_result",
     "execution_count": 6
    }
   ],
   "source": [
    "x.shape"
   ]
  },
  {
   "cell_type": "code",
   "execution_count": 7,
   "metadata": {
    "pycharm": {
     "is_executing": false,
     "name": "#%%\n"
    }
   },
   "outputs": [
    {
     "data": {
      "text/plain": "label_20_up\n0              41566\n1               7968\ndtype: int64"
     },
     "metadata": {},
     "output_type": "execute_result",
     "execution_count": 7
    }
   ],
   "source": [
    "from model_factory import ModelFactory\n",
    "_, y_up_class = ModelFactory.prepare_classification_label(df, 20)\n",
    "y_up_class.value_counts()\n"
   ]
  },
  {
   "cell_type": "code",
   "execution_count": 8,
   "metadata": {
    "pycharm": {
     "is_executing": false,
     "name": "#%%\n"
    }
   },
   "outputs": [
    {
     "data": {
      "text/plain": "(49534, 1)"
     },
     "metadata": {},
     "output_type": "execute_result",
     "execution_count": 8
    }
   ],
   "source": [
    "y_up_class.shape\n"
   ]
  },
  {
   "cell_type": "code",
   "execution_count": 9,
   "metadata": {
    "pycharm": {
     "is_executing": false,
     "name": "#%%\n"
    }
   },
   "outputs": [],
   "source": [
    "x_train, x_test, y_train, y_test = train_test_split(x, y_up_class, test_size=0.1)\n"
   ]
  },
  {
   "cell_type": "code",
   "execution_count": 10,
   "metadata": {
    "pycharm": {
     "is_executing": false,
     "name": "#%%\n"
    }
   },
   "outputs": [],
   "source": [
    "from sklearn.neural_network import MLPClassifier\n",
    "from sklearn.neighbors import KNeighborsClassifier\n",
    "from sklearn.svm import SVC\n",
    "from sklearn.gaussian_process import GaussianProcessClassifier\n",
    "from sklearn.ensemble import GradientBoostingClassifier\n",
    "from sklearn.gaussian_process.kernels import RBF\n",
    "from sklearn.tree import DecisionTreeClassifier\n",
    "from sklearn.ensemble import ExtraTreesClassifier\n",
    "from sklearn.ensemble import RandomForestClassifier, AdaBoostClassifier\n",
    "from sklearn.naive_bayes import GaussianNB\n",
    "from sklearn.discriminant_analysis import QuadraticDiscriminantAnalysis\n",
    "from sklearn.linear_model import SGDClassifier"
   ]
  },
  {
   "cell_type": "code",
   "execution_count": 11,
   "metadata": {
    "pycharm": {
     "is_executing": false,
     "name": "#%%\n"
    }
   },
   "outputs": [],
   "source": [
    "# names = [\"Nearest_Neighbors\", \n",
    "#          #\"Linear_SVM\", \n",
    "#          #\"Polynomial_SVM\", \n",
    "#          #\"RBF_SVM\", \n",
    "#          #\"Gaussian_Process\",\n",
    "#          \"Gradient_Boosting\", \n",
    "#          \"Decision_Tree\", \n",
    "#          \"Extra_Trees\", \n",
    "#          \"Random_Forest\", \n",
    "#          \"Neural_Net\", \n",
    "#          \"AdaBoost\",\n",
    "#          \"Naive_Bayes\",\n",
    "#          \"QDA\",\n",
    "#          \"SGD\"]\n",
    "algos = {\n",
    "    \"Nearest_Neighbors\": KNeighborsClassifier(3),\n",
    "     #\"Linear_SVM\", \n",
    "     #\"Polynomial_SVM\", \n",
    "     #\"RBF_SVM\", \n",
    "     #\"Gaussian_Process\",\n",
    "     \"Gradient_Boosting\": GradientBoostingClassifier(n_estimators=100, learning_rate=1.0),\n",
    "     \"Decision_Tree\": DecisionTreeClassifier(max_depth=5),\n",
    "     \"Extra_Trees\": ExtraTreesClassifier(n_estimators=10, min_samples_split=2), \n",
    "     \"Random_Forest\": RandomForestClassifier(max_depth=5, n_estimators=100), \n",
    "     \"Neural_Net\": MLPClassifier(alpha=1, max_iter=1000), \n",
    "     \"AdaBoost\": AdaBoostClassifier(n_estimators=100),\n",
    "     \"Naive_Bayes\": GaussianNB(),\n",
    "     \"QDA\": QuadraticDiscriminantAnalysis(),\n",
    "     \"SGD\": SGDClassifier(loss=\"hinge\", penalty=\"l2\")\n",
    "}\n",
    "# classifiers = [\n",
    "#     KNeighborsClassifier(3),\n",
    "#     #SVC(kernel=\"linear\", C=0.025),\n",
    "#     #SVC(kernel=\"poly\", degree=3, C=0.025),\n",
    "#     #SVC(kernel=\"rbf\", C=1, gamma=2),\n",
    "#     #GaussianProcessClassifier(1.0 * RBF(1.0)),\n",
    "#     GradientBoostingClassifier(n_estimators=100, learning_rate=1.0),\n",
    "#     DecisionTreeClassifier(max_depth=5),\n",
    "#     ExtraTreesClassifier(n_estimators=10, min_samples_split=2),\n",
    "#     RandomForestClassifier(max_depth=5, n_estimators=100),\n",
    "#     MLPClassifier(alpha=1, max_iter=1000),\n",
    "#     AdaBoostClassifier(n_estimators=100),\n",
    "#     GaussianNB(),\n",
    "#     QuadraticDiscriminantAnalysis(),\n",
    "#     SGDClassifier(loss=\"hinge\", penalty=\"l2\")]\n"
   ]
  },
  {
   "cell_type": "code",
   "execution_count": 12,
   "metadata": {
    "pycharm": {
     "is_executing": false,
     "name": "#%%\n"
    }
   },
   "outputs": [],
   "source": [
    "scores = []\n",
    "models = []\n",
    "result = {}"
   ]
  },
  {
   "cell_type": "code",
   "execution_count": 13,
   "metadata": {
    "pycharm": {
     "is_executing": false,
     "name": "#%%\n"
    }
   },
   "outputs": [
    {
     "name": "stdout",
     "text": [
      "Training Nearest_Neighbors model\n",
      "Training Gradient_Boosting model\n",
      "Training Extra_Trees model\n",
      "Training Random_Forest model\n",
      "Training Neural_Net model\n",
      "Training AdaBoost model\n",
      "Training Naive_Bayes model\n"
     ],
     "output_type": "stream"
    },
    {
     "name": "stderr",
     "text": [
      "C:\\Users\\hustlestar\\Anaconda3\\envs\\x-dev\\lib\\site-packages\\sklearn\\neighbors\\_classification.py:200: DataConversionWarning: A column-vector y was passed when a 1d array was expected. Please change the shape of y to (n_samples,), for example using ravel().\n  return self._fit(X, y)\n",
      "C:\\Users\\hustlestar\\Anaconda3\\envs\\x-dev\\lib\\site-packages\\sklearn\\ensemble\\_gb.py:570: DataConversionWarning: A column-vector y was passed when a 1d array was expected. Please change the shape of y to (n_samples, ), for example using ravel().\n  y = column_or_1d(y, warn=True)\n",
      "C:\\Users\\hustlestar\\AppData\\Local\\Temp\\ipykernel_1852\\1782329729.py:2: DataConversionWarning: A column-vector y was passed when a 1d array was expected. Please change the shape of y to (n_samples,), for example using ravel().\n  clf.fit(x_train, y_train)\n",
      "C:\\Users\\hustlestar\\AppData\\Local\\Temp\\ipykernel_1852\\1782329729.py:2: DataConversionWarning: A column-vector y was passed when a 1d array was expected. Please change the shape of y to (n_samples,), for example using ravel().\n  clf.fit(x_train, y_train)\n",
      "C:\\Users\\hustlestar\\Anaconda3\\envs\\x-dev\\lib\\site-packages\\sklearn\\neural_network\\_multilayer_perceptron.py:1118: DataConversionWarning: A column-vector y was passed when a 1d array was expected. Please change the shape of y to (n_samples, ), for example using ravel().\n  y = column_or_1d(y, warn=True)\n",
      "C:\\Users\\hustlestar\\Anaconda3\\envs\\x-dev\\lib\\site-packages\\sklearn\\utils\\validation.py:1111: DataConversionWarning: A column-vector y was passed when a 1d array was expected. Please change the shape of y to (n_samples, ), for example using ravel().\n  y = column_or_1d(y, warn=True)\n",
      "C:\\Users\\hustlestar\\Anaconda3\\envs\\x-dev\\lib\\site-packages\\sklearn\\utils\\validation.py:1111: DataConversionWarning: A column-vector y was passed when a 1d array was expected. Please change the shape of y to (n_samples, ), for example using ravel().\n  y = column_or_1d(y, warn=True)\n"
     ],
     "output_type": "stream"
    }
   ],
   "source": [
    "def train(clf):\n",
    "    clf.fit(x_train, y_train)\n",
    "    score = clf.score(x_test, y_test)\n",
    "    return score\n",
    "def train_gen(algos_dict):\n",
    "    for name, clf in algos_dict.items():\n",
    "        print(f\"Training {name} model\")\n",
    "        score = train(clf)\n",
    "        yield score, clf\n",
    "check_list = [\"Nearest_Neighbors\", \n",
    "              \"Gradient_Boosting\", \n",
    "              \"Extra_Trees\",\n",
    "              \"Random_Forest\",\n",
    "              \"Neural_Net\",\n",
    "              \"AdaBoost\",\n",
    "              \"Naive_Bayes\"\n",
    "              ]\n",
    "for k, v in train_gen({k: v for k, v in algos.items() if k in check_list}):\n",
    "    result[k] = v\n",
    "    scores.append(k)\n",
    "    models.append(v)"
   ]
  },
  {
   "cell_type": "code",
   "execution_count": 14,
   "metadata": {
    "pycharm": {
     "is_executing": false,
     "name": "#%%\n"
    }
   },
   "outputs": [
    {
     "data": {
      "text/plain": "                name     score\n0  Nearest_Neighbors  0.876262\n1  Gradient_Boosting  0.886354\n2        Extra_Trees  0.933387\n3      Random_Forest  0.844368\n4         Neural_Net  0.631005\n5           AdaBoost  0.843763\n6        Naive_Bayes  0.159063",
      "text/html": "<div>\n<style scoped>\n    .dataframe tbody tr th:only-of-type {\n        vertical-align: middle;\n    }\n\n    .dataframe tbody tr th {\n        vertical-align: top;\n    }\n\n    .dataframe thead th {\n        text-align: right;\n    }\n</style>\n<table border=\"1\" class=\"dataframe\">\n  <thead>\n    <tr style=\"text-align: right;\">\n      <th></th>\n      <th>name</th>\n      <th>score</th>\n    </tr>\n  </thead>\n  <tbody>\n    <tr>\n      <th>0</th>\n      <td>Nearest_Neighbors</td>\n      <td>0.876262</td>\n    </tr>\n    <tr>\n      <th>1</th>\n      <td>Gradient_Boosting</td>\n      <td>0.886354</td>\n    </tr>\n    <tr>\n      <th>2</th>\n      <td>Extra_Trees</td>\n      <td>0.933387</td>\n    </tr>\n    <tr>\n      <th>3</th>\n      <td>Random_Forest</td>\n      <td>0.844368</td>\n    </tr>\n    <tr>\n      <th>4</th>\n      <td>Neural_Net</td>\n      <td>0.631005</td>\n    </tr>\n    <tr>\n      <th>5</th>\n      <td>AdaBoost</td>\n      <td>0.843763</td>\n    </tr>\n    <tr>\n      <th>6</th>\n      <td>Naive_Bayes</td>\n      <td>0.159063</td>\n    </tr>\n  </tbody>\n</table>\n</div>"
     },
     "metadata": {},
     "output_type": "execute_result",
     "execution_count": 14
    }
   ],
   "source": [
    "df = pd.DataFrame()\n",
    "df['name'] = check_list\n",
    "df['score'] = scores\n",
    "df"
   ]
  },
  {
   "cell_type": "code",
   "execution_count": 15,
   "metadata": {
    "pycharm": {
     "is_executing": false,
     "name": "#%%\n"
    }
   },
   "outputs": [
    {
     "data": {
      "text/plain": "<Figure size 432x288 with 1 Axes>",
      "image/png": "[encoded data removed]"
     },
     "metadata": {
      "needs_background": "light"
     },
     "output_type": "display_data"
    }
   ],
   "source": [
    "sns.set(style=\"whitegrid\")\n",
    "ax = sns.barplot(y=\"name\", x=\"score\", data=df)"
   ]
  },
  {
   "cell_type": "code",
   "execution_count": null,
   "metadata": {
    "pycharm": {
     "name": "#%%\n"
    }
   },
   "outputs": [],
   "source": [
    "\n"
   ]
  },
  {
   "cell_type": "code",
   "execution_count": null,
   "metadata": {},
   "outputs": [],
   "source": []
  },
  {
   "cell_type": "code",
   "execution_count": null,
   "metadata": {},
   "outputs": [],
   "source": []
  }
 ],
 "metadata": {
  "kernelspec": {
   "display_name": "PyCharm (trading-bot-ml)",
   "language": "python",
   "name": "pycharm-1c3c67ad"
  },
  "language_info": {
   "codemirror_mode": {
    "name": "ipython",
    "version": 3
   },
   "file_extension": ".py",
   "mimetype": "text/x-python",
   "name": "python",
   "nbconvert_exporter": "python",
   "pygments_lexer": "ipython3",
   "version": "3.8.13"
  },
  "pycharm": {
   "stem_cell": {
    "cell_type": "raw",
    "source": [],
    "metadata": {
     "collapsed": false
    }
   }
  }
 },
 "nbformat": 4,
 "nbformat_minor": 1
}